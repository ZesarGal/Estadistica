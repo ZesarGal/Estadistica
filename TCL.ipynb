{
  "nbformat": 4,
  "nbformat_minor": 0,
  "metadata": {
    "colab": {
      "provenance": [],
      "collapsed_sections": []
    },
    "kernelspec": {
      "name": "python3",
      "display_name": "Python 3"
    },
    "language_info": {
      "name": "python"
    }
  },
  "cells": [
    {
      "cell_type": "markdown",
      "source": [
        "# El teorema del límite central\n",
        "### Variable aleatoria exponencial"
      ],
      "metadata": {
        "id": "fAXeaqBZCJ_5"
      }
    },
    {
      "cell_type": "markdown",
      "source": [
        "### Distribución exponencial es una variable aleatoria cuya probabilidad se encuentra como sigue:\n",
        "$$P(T<t)=\\int_{0}^{t} \\lambda e^{-\\lambda x}dx $$"
      ],
      "metadata": {
        "id": "zzMqwHNaCzLv"
      }
    },
    {
      "cell_type": "code",
      "source": [
        "import numpy as np\n",
        "import pandas as pd\n",
        "import scipy \n",
        "import seaborn as sns"
      ],
      "metadata": {
        "id": "sZYXDH0fE8Ak"
      },
      "execution_count": 1,
      "outputs": []
    },
    {
      "cell_type": "code",
      "source": [
        "np.random.exponential(1)"
      ],
      "metadata": {
        "colab": {
          "base_uri": "https://localhost:8080/"
        },
        "id": "LAcPo0JjGbOq",
        "outputId": "49855c3b-d9cc-4dca-f43e-a756add5c741"
      },
      "execution_count": 2,
      "outputs": [
        {
          "output_type": "execute_result",
          "data": {
            "text/plain": [
              "0.3401658957378581"
            ]
          },
          "metadata": {},
          "execution_count": 2
        }
      ]
    },
    {
      "cell_type": "code",
      "source": [
        "np.random.binomial(1000, 0.3)"
      ],
      "metadata": {
        "colab": {
          "base_uri": "https://localhost:8080/"
        },
        "id": "MK15d_FCHGg5",
        "outputId": "570e0df5-f65e-478d-cd74-b7b91e3edfea"
      },
      "execution_count": 3,
      "outputs": [
        {
          "output_type": "execute_result",
          "data": {
            "text/plain": [
              "296"
            ]
          },
          "metadata": {},
          "execution_count": 3
        }
      ]
    },
    {
      "cell_type": "code",
      "source": [
        "type([ ])"
      ],
      "metadata": {
        "colab": {
          "base_uri": "https://localhost:8080/"
        },
        "id": "qcDUXahkHe04",
        "outputId": "d8bed833-bed2-4533-bde2-399f2a73b0d6"
      },
      "execution_count": null,
      "outputs": [
        {
          "output_type": "execute_result",
          "data": {
            "text/plain": [
              "list"
            ]
          },
          "metadata": {},
          "execution_count": 5
        }
      ]
    },
    {
      "cell_type": "code",
      "source": [
        "type(range(7,10)) "
      ],
      "metadata": {
        "colab": {
          "base_uri": "https://localhost:8080/"
        },
        "id": "mVKEC_mCIEQ_",
        "outputId": "8976ad63-2f80-47c2-ebef-65e759f42c34"
      },
      "execution_count": null,
      "outputs": [
        {
          "output_type": "execute_result",
          "data": {
            "text/plain": [
              "range"
            ]
          },
          "metadata": {},
          "execution_count": 6
        }
      ]
    },
    {
      "cell_type": "code",
      "source": [
        "np.array([1,2,3])+np.array([4,5,6])  "
      ],
      "metadata": {
        "colab": {
          "base_uri": "https://localhost:8080/"
        },
        "id": "DGBtpBcBJH5j",
        "outputId": "ad06d039-decc-43d5-9bde-28c672e38ba4"
      },
      "execution_count": null,
      "outputs": [
        {
          "output_type": "execute_result",
          "data": {
            "text/plain": [
              "array([5, 7, 9])"
            ]
          },
          "metadata": {},
          "execution_count": 7
        }
      ]
    },
    {
      "cell_type": "code",
      "source": [
        "alumnos = {\"Nina\": [22, 1.62, 53],\n",
        "           \"Azul\": [20, 1.60, 48],\n",
        "           \"Mariana\":[20, 1.62, 53]} \n",
        "\n",
        "alumnos "
      ],
      "metadata": {
        "colab": {
          "base_uri": "https://localhost:8080/"
        },
        "id": "dNUbtJCOIpR0",
        "outputId": "0529bcf3-1306-4594-ee3e-5890e6c25ff0"
      },
      "execution_count": null,
      "outputs": [
        {
          "output_type": "execute_result",
          "data": {
            "text/plain": [
              "{'Nina': [22, 1.62, 53], 'Azul': [20, 1.6, 48], 'Mariana': [20, 1.62, 53]}"
            ]
          },
          "metadata": {},
          "execution_count": 8
        }
      ]
    },
    {
      "cell_type": "code",
      "source": [
        "alumnos[\"Nina\"]"
      ],
      "metadata": {
        "colab": {
          "base_uri": "https://localhost:8080/"
        },
        "id": "UMyd_I3zKiyI",
        "outputId": "82b2184f-7f90-4359-f27b-0bb13aa1bb9e"
      },
      "execution_count": null,
      "outputs": [
        {
          "output_type": "execute_result",
          "data": {
            "text/plain": [
              "[22, 1.62, 53]"
            ]
          },
          "metadata": {},
          "execution_count": 9
        }
      ]
    },
    {
      "cell_type": "code",
      "source": [
        "alumnos[\"Leonardo\"]=[22, 1.75, 65]"
      ],
      "metadata": {
        "id": "lGP314VTKpxi"
      },
      "execution_count": null,
      "outputs": []
    },
    {
      "cell_type": "code",
      "source": [
        "alumnos"
      ],
      "metadata": {
        "colab": {
          "base_uri": "https://localhost:8080/"
        },
        "id": "h4qNvQ6iKwKq",
        "outputId": "73a05c39-fd9a-474a-8481-31d35522c938"
      },
      "execution_count": null,
      "outputs": [
        {
          "output_type": "execute_result",
          "data": {
            "text/plain": [
              "{'Nina': [22, 1.62, 53],\n",
              " 'Azul': [20, 1.6, 48],\n",
              " 'Mariana': [20, 1.62, 53],\n",
              " 'Leonardo': [22, 1.75, 65]}"
            ]
          },
          "metadata": {},
          "execution_count": 11
        }
      ]
    },
    {
      "cell_type": "code",
      "source": [
        "I = [\"edad\", \"estatura\", \"peso\"]\n",
        "\n",
        "dfalumnos = pd.DataFrame(alumnos, index=I)  \n",
        "\n",
        "dfalumnos "
      ],
      "metadata": {
        "colab": {
          "base_uri": "https://localhost:8080/",
          "height": 143
        },
        "id": "p8BYUvGRLDKN",
        "outputId": "bd2d626c-d610-4946-f81b-9fed3e474552"
      },
      "execution_count": null,
      "outputs": [
        {
          "output_type": "execute_result",
          "data": {
            "text/plain": [
              "           Nina  Azul  Mariana  Leonardo\n",
              "edad      22.00  20.0    20.00     22.00\n",
              "estatura   1.62   1.6     1.62      1.75\n",
              "peso      53.00  48.0    53.00     65.00"
            ],
            "text/html": [
              "\n",
              "  <div id=\"df-3294ead9-d299-47a1-b1d9-deb5f86907cd\">\n",
              "    <div class=\"colab-df-container\">\n",
              "      <div>\n",
              "<style scoped>\n",
              "    .dataframe tbody tr th:only-of-type {\n",
              "        vertical-align: middle;\n",
              "    }\n",
              "\n",
              "    .dataframe tbody tr th {\n",
              "        vertical-align: top;\n",
              "    }\n",
              "\n",
              "    .dataframe thead th {\n",
              "        text-align: right;\n",
              "    }\n",
              "</style>\n",
              "<table border=\"1\" class=\"dataframe\">\n",
              "  <thead>\n",
              "    <tr style=\"text-align: right;\">\n",
              "      <th></th>\n",
              "      <th>Nina</th>\n",
              "      <th>Azul</th>\n",
              "      <th>Mariana</th>\n",
              "      <th>Leonardo</th>\n",
              "    </tr>\n",
              "  </thead>\n",
              "  <tbody>\n",
              "    <tr>\n",
              "      <th>edad</th>\n",
              "      <td>22.00</td>\n",
              "      <td>20.0</td>\n",
              "      <td>20.00</td>\n",
              "      <td>22.00</td>\n",
              "    </tr>\n",
              "    <tr>\n",
              "      <th>estatura</th>\n",
              "      <td>1.62</td>\n",
              "      <td>1.6</td>\n",
              "      <td>1.62</td>\n",
              "      <td>1.75</td>\n",
              "    </tr>\n",
              "    <tr>\n",
              "      <th>peso</th>\n",
              "      <td>53.00</td>\n",
              "      <td>48.0</td>\n",
              "      <td>53.00</td>\n",
              "      <td>65.00</td>\n",
              "    </tr>\n",
              "  </tbody>\n",
              "</table>\n",
              "</div>\n",
              "      <button class=\"colab-df-convert\" onclick=\"convertToInteractive('df-3294ead9-d299-47a1-b1d9-deb5f86907cd')\"\n",
              "              title=\"Convert this dataframe to an interactive table.\"\n",
              "              style=\"display:none;\">\n",
              "        \n",
              "  <svg xmlns=\"http://www.w3.org/2000/svg\" height=\"24px\"viewBox=\"0 0 24 24\"\n",
              "       width=\"24px\">\n",
              "    <path d=\"M0 0h24v24H0V0z\" fill=\"none\"/>\n",
              "    <path d=\"M18.56 5.44l.94 2.06.94-2.06 2.06-.94-2.06-.94-.94-2.06-.94 2.06-2.06.94zm-11 1L8.5 8.5l.94-2.06 2.06-.94-2.06-.94L8.5 2.5l-.94 2.06-2.06.94zm10 10l.94 2.06.94-2.06 2.06-.94-2.06-.94-.94-2.06-.94 2.06-2.06.94z\"/><path d=\"M17.41 7.96l-1.37-1.37c-.4-.4-.92-.59-1.43-.59-.52 0-1.04.2-1.43.59L10.3 9.45l-7.72 7.72c-.78.78-.78 2.05 0 2.83L4 21.41c.39.39.9.59 1.41.59.51 0 1.02-.2 1.41-.59l7.78-7.78 2.81-2.81c.8-.78.8-2.07 0-2.86zM5.41 20L4 18.59l7.72-7.72 1.47 1.35L5.41 20z\"/>\n",
              "  </svg>\n",
              "      </button>\n",
              "      \n",
              "  <style>\n",
              "    .colab-df-container {\n",
              "      display:flex;\n",
              "      flex-wrap:wrap;\n",
              "      gap: 12px;\n",
              "    }\n",
              "\n",
              "    .colab-df-convert {\n",
              "      background-color: #E8F0FE;\n",
              "      border: none;\n",
              "      border-radius: 50%;\n",
              "      cursor: pointer;\n",
              "      display: none;\n",
              "      fill: #1967D2;\n",
              "      height: 32px;\n",
              "      padding: 0 0 0 0;\n",
              "      width: 32px;\n",
              "    }\n",
              "\n",
              "    .colab-df-convert:hover {\n",
              "      background-color: #E2EBFA;\n",
              "      box-shadow: 0px 1px 2px rgba(60, 64, 67, 0.3), 0px 1px 3px 1px rgba(60, 64, 67, 0.15);\n",
              "      fill: #174EA6;\n",
              "    }\n",
              "\n",
              "    [theme=dark] .colab-df-convert {\n",
              "      background-color: #3B4455;\n",
              "      fill: #D2E3FC;\n",
              "    }\n",
              "\n",
              "    [theme=dark] .colab-df-convert:hover {\n",
              "      background-color: #434B5C;\n",
              "      box-shadow: 0px 1px 3px 1px rgba(0, 0, 0, 0.15);\n",
              "      filter: drop-shadow(0px 1px 2px rgba(0, 0, 0, 0.3));\n",
              "      fill: #FFFFFF;\n",
              "    }\n",
              "  </style>\n",
              "\n",
              "      <script>\n",
              "        const buttonEl =\n",
              "          document.querySelector('#df-3294ead9-d299-47a1-b1d9-deb5f86907cd button.colab-df-convert');\n",
              "        buttonEl.style.display =\n",
              "          google.colab.kernel.accessAllowed ? 'block' : 'none';\n",
              "\n",
              "        async function convertToInteractive(key) {\n",
              "          const element = document.querySelector('#df-3294ead9-d299-47a1-b1d9-deb5f86907cd');\n",
              "          const dataTable =\n",
              "            await google.colab.kernel.invokeFunction('convertToInteractive',\n",
              "                                                     [key], {});\n",
              "          if (!dataTable) return;\n",
              "\n",
              "          const docLinkHtml = 'Like what you see? Visit the ' +\n",
              "            '<a target=\"_blank\" href=https://colab.research.google.com/notebooks/data_table.ipynb>data table notebook</a>'\n",
              "            + ' to learn more about interactive tables.';\n",
              "          element.innerHTML = '';\n",
              "          dataTable['output_type'] = 'display_data';\n",
              "          await google.colab.output.renderOutput(dataTable, element);\n",
              "          const docLink = document.createElement('div');\n",
              "          docLink.innerHTML = docLinkHtml;\n",
              "          element.appendChild(docLink);\n",
              "        }\n",
              "      </script>\n",
              "    </div>\n",
              "  </div>\n",
              "  "
            ]
          },
          "metadata": {},
          "execution_count": 12
        }
      ]
    },
    {
      "cell_type": "code",
      "source": [
        "dfalumnos.iloc[0].mean()"
      ],
      "metadata": {
        "colab": {
          "base_uri": "https://localhost:8080/"
        },
        "id": "REg3_y-wPbT8",
        "outputId": "0db38f25-4a54-4844-8d60-7de18283c3d5"
      },
      "execution_count": null,
      "outputs": [
        {
          "output_type": "execute_result",
          "data": {
            "text/plain": [
              "21.0"
            ]
          },
          "metadata": {},
          "execution_count": 13
        }
      ]
    },
    {
      "cell_type": "code",
      "source": [
        "tamaño = 2 \n",
        "\n",
        "df = pd.DataFrame(index=[\"M1\", \"M2\" ] )\n",
        "\n",
        "for i in range(1,51):\n",
        "  muestra_exponencial = np.random.exponential(4, tamaño)\n",
        "\n",
        "  col = f\"muestra {i}\" \n",
        "\n",
        "  df[col] = muestra_exponencial"
      ],
      "metadata": {
        "id": "L8dLMx_WLe3o"
      },
      "execution_count": null,
      "outputs": []
    },
    {
      "cell_type": "code",
      "source": [
        "df"
      ],
      "metadata": {
        "colab": {
          "base_uri": "https://localhost:8080/",
          "height": 223
        },
        "id": "tEgEVjvBMjLH",
        "outputId": "fbf32361-11f2-4e0a-a1c7-2667b8a889db"
      },
      "execution_count": null,
      "outputs": [
        {
          "output_type": "execute_result",
          "data": {
            "text/plain": [
              "    muestra 1  muestra 2  muestra 3  muestra 4  muestra 5  muestra 6  \\\n",
              "M1   4.308440   3.091864   9.993138   0.514699   2.121345   1.820588   \n",
              "M2   0.997069   3.094694   3.144909   1.241637   8.462844   3.086998   \n",
              "\n",
              "    muestra 7  muestra 8  muestra 9  muestra 10  ...  muestra 41  muestra 42  \\\n",
              "M1   3.484079   4.400163   3.330415    4.804391  ...    0.637806    0.133621   \n",
              "M2  10.089493   1.618627   7.092739    0.107998  ...   11.529064    0.486699   \n",
              "\n",
              "    muestra 43  muestra 44  muestra 45  muestra 46  muestra 47  muestra 48  \\\n",
              "M1    1.958666    6.931180   15.311520    5.620089    5.178018    1.412404   \n",
              "M2    3.367136    0.089468    4.365999    2.436546    5.066944    4.064735   \n",
              "\n",
              "    muestra 49  muestra 50  \n",
              "M1    0.234399    1.434946  \n",
              "M2    7.994725   12.017849  \n",
              "\n",
              "[2 rows x 50 columns]"
            ],
            "text/html": [
              "\n",
              "  <div id=\"df-43e0cffc-2b05-4c91-9852-0989b9fcbf0a\">\n",
              "    <div class=\"colab-df-container\">\n",
              "      <div>\n",
              "<style scoped>\n",
              "    .dataframe tbody tr th:only-of-type {\n",
              "        vertical-align: middle;\n",
              "    }\n",
              "\n",
              "    .dataframe tbody tr th {\n",
              "        vertical-align: top;\n",
              "    }\n",
              "\n",
              "    .dataframe thead th {\n",
              "        text-align: right;\n",
              "    }\n",
              "</style>\n",
              "<table border=\"1\" class=\"dataframe\">\n",
              "  <thead>\n",
              "    <tr style=\"text-align: right;\">\n",
              "      <th></th>\n",
              "      <th>muestra 1</th>\n",
              "      <th>muestra 2</th>\n",
              "      <th>muestra 3</th>\n",
              "      <th>muestra 4</th>\n",
              "      <th>muestra 5</th>\n",
              "      <th>muestra 6</th>\n",
              "      <th>muestra 7</th>\n",
              "      <th>muestra 8</th>\n",
              "      <th>muestra 9</th>\n",
              "      <th>muestra 10</th>\n",
              "      <th>...</th>\n",
              "      <th>muestra 41</th>\n",
              "      <th>muestra 42</th>\n",
              "      <th>muestra 43</th>\n",
              "      <th>muestra 44</th>\n",
              "      <th>muestra 45</th>\n",
              "      <th>muestra 46</th>\n",
              "      <th>muestra 47</th>\n",
              "      <th>muestra 48</th>\n",
              "      <th>muestra 49</th>\n",
              "      <th>muestra 50</th>\n",
              "    </tr>\n",
              "  </thead>\n",
              "  <tbody>\n",
              "    <tr>\n",
              "      <th>M1</th>\n",
              "      <td>4.308440</td>\n",
              "      <td>3.091864</td>\n",
              "      <td>9.993138</td>\n",
              "      <td>0.514699</td>\n",
              "      <td>2.121345</td>\n",
              "      <td>1.820588</td>\n",
              "      <td>3.484079</td>\n",
              "      <td>4.400163</td>\n",
              "      <td>3.330415</td>\n",
              "      <td>4.804391</td>\n",
              "      <td>...</td>\n",
              "      <td>0.637806</td>\n",
              "      <td>0.133621</td>\n",
              "      <td>1.958666</td>\n",
              "      <td>6.931180</td>\n",
              "      <td>15.311520</td>\n",
              "      <td>5.620089</td>\n",
              "      <td>5.178018</td>\n",
              "      <td>1.412404</td>\n",
              "      <td>0.234399</td>\n",
              "      <td>1.434946</td>\n",
              "    </tr>\n",
              "    <tr>\n",
              "      <th>M2</th>\n",
              "      <td>0.997069</td>\n",
              "      <td>3.094694</td>\n",
              "      <td>3.144909</td>\n",
              "      <td>1.241637</td>\n",
              "      <td>8.462844</td>\n",
              "      <td>3.086998</td>\n",
              "      <td>10.089493</td>\n",
              "      <td>1.618627</td>\n",
              "      <td>7.092739</td>\n",
              "      <td>0.107998</td>\n",
              "      <td>...</td>\n",
              "      <td>11.529064</td>\n",
              "      <td>0.486699</td>\n",
              "      <td>3.367136</td>\n",
              "      <td>0.089468</td>\n",
              "      <td>4.365999</td>\n",
              "      <td>2.436546</td>\n",
              "      <td>5.066944</td>\n",
              "      <td>4.064735</td>\n",
              "      <td>7.994725</td>\n",
              "      <td>12.017849</td>\n",
              "    </tr>\n",
              "  </tbody>\n",
              "</table>\n",
              "<p>2 rows × 50 columns</p>\n",
              "</div>\n",
              "      <button class=\"colab-df-convert\" onclick=\"convertToInteractive('df-43e0cffc-2b05-4c91-9852-0989b9fcbf0a')\"\n",
              "              title=\"Convert this dataframe to an interactive table.\"\n",
              "              style=\"display:none;\">\n",
              "        \n",
              "  <svg xmlns=\"http://www.w3.org/2000/svg\" height=\"24px\"viewBox=\"0 0 24 24\"\n",
              "       width=\"24px\">\n",
              "    <path d=\"M0 0h24v24H0V0z\" fill=\"none\"/>\n",
              "    <path d=\"M18.56 5.44l.94 2.06.94-2.06 2.06-.94-2.06-.94-.94-2.06-.94 2.06-2.06.94zm-11 1L8.5 8.5l.94-2.06 2.06-.94-2.06-.94L8.5 2.5l-.94 2.06-2.06.94zm10 10l.94 2.06.94-2.06 2.06-.94-2.06-.94-.94-2.06-.94 2.06-2.06.94z\"/><path d=\"M17.41 7.96l-1.37-1.37c-.4-.4-.92-.59-1.43-.59-.52 0-1.04.2-1.43.59L10.3 9.45l-7.72 7.72c-.78.78-.78 2.05 0 2.83L4 21.41c.39.39.9.59 1.41.59.51 0 1.02-.2 1.41-.59l7.78-7.78 2.81-2.81c.8-.78.8-2.07 0-2.86zM5.41 20L4 18.59l7.72-7.72 1.47 1.35L5.41 20z\"/>\n",
              "  </svg>\n",
              "      </button>\n",
              "      \n",
              "  <style>\n",
              "    .colab-df-container {\n",
              "      display:flex;\n",
              "      flex-wrap:wrap;\n",
              "      gap: 12px;\n",
              "    }\n",
              "\n",
              "    .colab-df-convert {\n",
              "      background-color: #E8F0FE;\n",
              "      border: none;\n",
              "      border-radius: 50%;\n",
              "      cursor: pointer;\n",
              "      display: none;\n",
              "      fill: #1967D2;\n",
              "      height: 32px;\n",
              "      padding: 0 0 0 0;\n",
              "      width: 32px;\n",
              "    }\n",
              "\n",
              "    .colab-df-convert:hover {\n",
              "      background-color: #E2EBFA;\n",
              "      box-shadow: 0px 1px 2px rgba(60, 64, 67, 0.3), 0px 1px 3px 1px rgba(60, 64, 67, 0.15);\n",
              "      fill: #174EA6;\n",
              "    }\n",
              "\n",
              "    [theme=dark] .colab-df-convert {\n",
              "      background-color: #3B4455;\n",
              "      fill: #D2E3FC;\n",
              "    }\n",
              "\n",
              "    [theme=dark] .colab-df-convert:hover {\n",
              "      background-color: #434B5C;\n",
              "      box-shadow: 0px 1px 3px 1px rgba(0, 0, 0, 0.15);\n",
              "      filter: drop-shadow(0px 1px 2px rgba(0, 0, 0, 0.3));\n",
              "      fill: #FFFFFF;\n",
              "    }\n",
              "  </style>\n",
              "\n",
              "      <script>\n",
              "        const buttonEl =\n",
              "          document.querySelector('#df-43e0cffc-2b05-4c91-9852-0989b9fcbf0a button.colab-df-convert');\n",
              "        buttonEl.style.display =\n",
              "          google.colab.kernel.accessAllowed ? 'block' : 'none';\n",
              "\n",
              "        async function convertToInteractive(key) {\n",
              "          const element = document.querySelector('#df-43e0cffc-2b05-4c91-9852-0989b9fcbf0a');\n",
              "          const dataTable =\n",
              "            await google.colab.kernel.invokeFunction('convertToInteractive',\n",
              "                                                     [key], {});\n",
              "          if (!dataTable) return;\n",
              "\n",
              "          const docLinkHtml = 'Like what you see? Visit the ' +\n",
              "            '<a target=\"_blank\" href=https://colab.research.google.com/notebooks/data_table.ipynb>data table notebook</a>'\n",
              "            + ' to learn more about interactive tables.';\n",
              "          element.innerHTML = '';\n",
              "          dataTable['output_type'] = 'display_data';\n",
              "          await google.colab.output.renderOutput(dataTable, element);\n",
              "          const docLink = document.createElement('div');\n",
              "          docLink.innerHTML = docLinkHtml;\n",
              "          element.appendChild(docLink);\n",
              "        }\n",
              "      </script>\n",
              "    </div>\n",
              "  </div>\n",
              "  "
            ]
          },
          "metadata": {},
          "execution_count": 15
        }
      ]
    },
    {
      "cell_type": "code",
      "source": [
        "import seaborn as sns\n",
        "\n",
        "muestra_exponencial_medias = df.mean()\n",
        "\n",
        "muestra_exponencial_medias"
      ],
      "metadata": {
        "id": "IrcvSrw4OfIV",
        "colab": {
          "base_uri": "https://localhost:8080/"
        },
        "outputId": "566d9751-c459-4a99-e651-86b57484106c"
      },
      "execution_count": null,
      "outputs": [
        {
          "output_type": "execute_result",
          "data": {
            "text/plain": [
              "muestra 1      2.652754\n",
              "muestra 2      3.093279\n",
              "muestra 3      6.569024\n",
              "muestra 4      0.878168\n",
              "muestra 5      5.292094\n",
              "muestra 6      2.453793\n",
              "muestra 7      6.786786\n",
              "muestra 8      3.009395\n",
              "muestra 9      5.211577\n",
              "muestra 10     2.456194\n",
              "muestra 11     3.181975\n",
              "muestra 12     2.713790\n",
              "muestra 13     1.013154\n",
              "muestra 14     4.804451\n",
              "muestra 15     2.504464\n",
              "muestra 16     2.335342\n",
              "muestra 17     2.836747\n",
              "muestra 18    12.028595\n",
              "muestra 19     1.184625\n",
              "muestra 20     3.398708\n",
              "muestra 21     5.024824\n",
              "muestra 22     5.633197\n",
              "muestra 23     4.648315\n",
              "muestra 24     4.844863\n",
              "muestra 25     5.848788\n",
              "muestra 26     1.217562\n",
              "muestra 27     3.639875\n",
              "muestra 28     5.247078\n",
              "muestra 29     1.515749\n",
              "muestra 30     8.747020\n",
              "muestra 31     2.065640\n",
              "muestra 32     4.430556\n",
              "muestra 33     2.682092\n",
              "muestra 34     2.123903\n",
              "muestra 35     1.714075\n",
              "muestra 36     1.185954\n",
              "muestra 37     5.385639\n",
              "muestra 38     1.526281\n",
              "muestra 39     3.774501\n",
              "muestra 40     1.349020\n",
              "muestra 41     6.083435\n",
              "muestra 42     0.310160\n",
              "muestra 43     2.662901\n",
              "muestra 44     3.510324\n",
              "muestra 45     9.838759\n",
              "muestra 46     4.028317\n",
              "muestra 47     5.122481\n",
              "muestra 48     2.738570\n",
              "muestra 49     4.114562\n",
              "muestra 50     6.726398\n",
              "dtype: float64"
            ]
          },
          "metadata": {},
          "execution_count": 16
        }
      ]
    },
    {
      "cell_type": "code",
      "source": [
        "sns.distplot(muestra_exponencial_medias);"
      ],
      "metadata": {
        "colab": {
          "base_uri": "https://localhost:8080/",
          "height": 321
        },
        "id": "JakcmeWIw260",
        "outputId": "fd9a394a-4c3a-4b83-a230-d2a5e8673a95"
      },
      "execution_count": null,
      "outputs": [
        {
          "output_type": "stream",
          "name": "stderr",
          "text": [
            "/usr/local/lib/python3.7/dist-packages/seaborn/distributions.py:2619: FutureWarning: `distplot` is a deprecated function and will be removed in a future version. Please adapt your code to use either `displot` (a figure-level function with similar flexibility) or `histplot` (an axes-level function for histograms).\n",
            "  warnings.warn(msg, FutureWarning)\n"
          ]
        },
        {
          "output_type": "display_data",
          "data": {
            "text/plain": [
              "<Figure size 432x288 with 1 Axes>"
            ],
            "image/png": "[encoded data removed]"
          },
          "metadata": {
            "needs_background": "light"
          }
        }
      ]
    },
    {
      "cell_type": "code",
      "source": [
        "tamaño=500\n",
        "\n",
        "df500 = pd.DataFrame()\n",
        "\n",
        "for i in range(1, 51):\n",
        "    exponential_sample = np.random.exponential(4, tamaño)\n",
        "    col = f'sample {i}'\n",
        "    df500[col] = exponential_sample\n",
        "\n",
        "\n",
        "df500_exp_medias = pd.DataFrame(df500.mean(),columns=['Muestra de las medias'])\n",
        "sns.distplot(df500_exp_medias);"
      ],
      "metadata": {
        "colab": {
          "base_uri": "https://localhost:8080/",
          "height": 321
        },
        "id": "zpMOAIzWw-AS",
        "outputId": "947cb43a-3180-4a96-c019-ccddb305e082"
      },
      "execution_count": null,
      "outputs": [
        {
          "output_type": "stream",
          "name": "stderr",
          "text": [
            "/usr/local/lib/python3.7/dist-packages/seaborn/distributions.py:2619: FutureWarning: `distplot` is a deprecated function and will be removed in a future version. Please adapt your code to use either `displot` (a figure-level function with similar flexibility) or `histplot` (an axes-level function for histograms).\n",
            "  warnings.warn(msg, FutureWarning)\n"
          ]
        },
        {
          "output_type": "display_data",
          "data": {
            "text/plain": [
              "<Figure size 432x288 with 1 Axes>"
            ],
            "image/png": "[encoded data removed]"
          },
          "metadata": {
            "needs_background": "light"
          }
        }
      ]
    },
    {
      "cell_type": "code",
      "source": [],
      "metadata": {
        "id": "sng3nHt6xmbH"
      },
      "execution_count": null,
      "outputs": []
    }
  ]
}