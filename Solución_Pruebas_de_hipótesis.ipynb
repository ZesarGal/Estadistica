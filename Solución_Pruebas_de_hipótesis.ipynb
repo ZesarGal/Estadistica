{
  "nbformat": 4,
  "nbformat_minor": 0,
  "metadata": {
    "colab": {
      "provenance": []
    },
    "kernelspec": {
      "name": "python3",
      "display_name": "Python 3"
    },
    "language_info": {
      "name": "python"
    }
  },
  "cells": [
    {
      "cell_type": "code",
      "execution_count": 45,
      "metadata": {
        "id": "NeFPmdaOTt03"
      },
      "outputs": [],
      "source": [
        "import scipy.stats as st\n",
        "from scipy.stats import bernoulli, binom, t\n",
        "import numpy as np \n",
        "import sympy \n",
        "from sympy.abc import x, z, n \n",
        "\n",
        "p = sympy.symbols(\"p\", positive = True)\n",
        "\n",
        "theta = sympy.symbols('theta', real=True)"
      ]
    },
    {
      "cell_type": "markdown",
      "source": [
        "## Solución a la tarea."
      ],
      "metadata": {
        "id": "KpjLAq8mmwQa"
      }
    },
    {
      "cell_type": "markdown",
      "source": [
        "Suponga que se tiene una variable aleatoria discreta $X$ con densidad:\n",
        "\t\\begin{align*}\n",
        "\tP(X=0)&=\\frac{2}{3}\\theta,\\\\\n",
        "\tP(X=1)&=\\frac{1}{3}\\theta,\\\\\n",
        "\tP(X=2)&=\\frac{2}{3}(1-\\theta),\\\\\n",
        "\tP(X=3)&=\\frac{1}{3}(1-\\theta)\n",
        "\t\\end{align*}\n",
        "con $\\theta\\in [0,1]$. Se toman las siguientes $10$ observaciones independientes de acuerdo a la distribución dada:\n",
        "$$(3, 0, 2, 1, 3, 2, 1, 0, 2, 1).$$\n",
        "Encuentra el MLE de $\\theta$."
      ],
      "metadata": {
        "id": "RyImAk-PUGTM"
      }
    },
    {
      "cell_type": "markdown",
      "source": [
        "**Solución**"
      ],
      "metadata": {
        "id": "n1GA85gmtRm0"
      }
    },
    {
      "cell_type": "markdown",
      "source": [
        "La función de verosimilitud es:\n",
        "\\begin{align*}\n",
        "L(3,0,2,1,3,2,1,0,2,1;\\theta)&=P(X=0)^{2}P(X=1)^{3}P(X=2)^{3}P(X=3)^{2}\\\\\n",
        "&=\\left(\\frac{2}{3}\\theta \\right)^{2}\\left(\\frac{1}{3}\\theta \\right)^{3}\\left(\\frac{2}{3}(1-\\theta) \\right)^{3}\\left(\\frac{1}{3}(1-\\theta) \\right)^{2}\\\\\n",
        "&=\\frac{4}{243}\\theta^{5}\\frac{8}{243}(1-\\theta)^{5}\\\\\n",
        "&=\\frac{32}{243}\\theta^{5}(1-\\theta)^{5}.\n",
        "\\end{align*}\n",
        "\n",
        "Calculamos la función logverosimil para obtener\n",
        "$$\\log L(3,0,2,1,3,2,1,0,2,1;\\theta)=\\log(32/243)+5\\log(\\theta)+5\\log(1-\\theta).$$\n",
        "\n",
        "Finalmente, calculamos los puntos críticos:\n",
        "$$\\frac{\\partial}{\\partial \\theta}\\log L(3,0,2,1,3,2,1,0,2,1;\\theta)=\\frac{5}{\\theta}-\\frac{5}{1-\\theta}=\\frac{5(1-\\theta)-5\\theta}{\\theta(1-\\theta)}=0.$$\n",
        "\n",
        "Así, obtenemos que el punto crítico es $\\theta=0.5$.\n",
        "\n",
        "Ya que,\n",
        "$$\\frac{\\partial^2}{\\partial \\theta^2}\\log L(3,0,2,1,3,2,1,0,2,1;\\theta)=-\\frac{5}{0.5^{2}}-\\frac{5}{(1-0.5)^2}<0$$\n",
        "entonces $\\hat{\\theta}=0.5$."
      ],
      "metadata": {
        "id": "j8B4usKgnAC0"
      }
    },
    {
      "cell_type": "code",
      "source": [
        "l = (2*theta/3)**2*(theta/3)**(3)*(2*(1-theta)/3)**3*((1-theta)/3)**2\n",
        "logl = sympy.expand_log(sympy.log(l))\n",
        "thetahat = sympy.solve(sympy.diff(logl,theta),theta)[0]\n",
        "\n",
        "thetahat"
      ],
      "metadata": {
        "colab": {
          "base_uri": "https://localhost:8080/",
          "height": 72
        },
        "id": "DXU8qdcXUM7t",
        "outputId": "aef0b020-a284-42b3-adfb-a9580aec669e"
      },
      "execution_count": 2,
      "outputs": [
        {
          "output_type": "execute_result",
          "data": {
            "text/plain": [
              "1/2"
            ],
            "text/latex": "$\\displaystyle \\frac{1}{2}$"
          },
          "metadata": {},
          "execution_count": 2
        }
      ]
    },
    {
      "cell_type": "markdown",
      "source": [
        "En una encuesta de la UP, 225 estudiantes son seleccionados al azar de los que toman cálculo y se les pregunta si cálculo es su materia favorita. 100 estudiantes responden que el cálculo es su materia favorita. Proporcione un intervalo de confianza del 95$\\%$ para la proporción de todos los estudiantes que toman cálculo y que la consideran su materia favorita."
      ],
      "metadata": {
        "id": "5rBKGIWkUTzP"
      }
    },
    {
      "cell_type": "markdown",
      "source": [
        "**Solución**"
      ],
      "metadata": {
        "id": "Z_10HbF0tWDz"
      }
    },
    {
      "cell_type": "markdown",
      "source": [
        "De la tarea anterior, sabemos que un intervalo de confianza (al $95\\%$) está dado por \n",
        "$$\\left(\\hat{p}-1.96\\frac{\\sqrt{\\hat{p}(1-\\hat{p})}}{\\sqrt{n}}, \\hat{p}+1.96\\frac{\\sqrt{\\hat{p}(1-\\hat{p})}}{\\sqrt{n}} \\right).$$\n",
        "\n",
        "En este caso, $\\hat{p}=100/225=4/9$ y $n=225$. Por lo tanto, el intervalo es aproximadamente $(0.38, 0.51)$."
      ],
      "metadata": {
        "id": "FDf3AOP6tPFa"
      }
    },
    {
      "cell_type": "code",
      "source": [
        "from scipy.stats import norm\n",
        "\n",
        "n=225 \n",
        "\n",
        "z = norm.ppf((1 + 0.95) / 2)\n",
        "\n",
        "phat=100/n\n",
        "\n",
        "A = phat - z * np.sqrt(phat * (1 - phat) / n)\n",
        "\n",
        "B = phat + z * np.sqrt(phat * (1 - phat) / n)\n",
        "\n",
        "A, B\n"
      ],
      "metadata": {
        "colab": {
          "base_uri": "https://localhost:8080/"
        },
        "id": "YdExBYT2UVDH",
        "outputId": "3d4380e7-55fa-4341-cf54-505c7821f107"
      },
      "execution_count": 8,
      "outputs": [
        {
          "output_type": "execute_result",
          "data": {
            "text/plain": [
              "(0.37951684884617914, 0.5093720400427098)"
            ]
          },
          "metadata": {},
          "execution_count": 8
        }
      ]
    },
    {
      "cell_type": "markdown",
      "source": [
        "Los datos \n",
        "\t$$1, 2, 3, 4$$\n",
        "se toman a partir de una distribución normal $N(\\mu,\\sigma^2)$ con $\\mu$ desconocida.\n",
        "1. Encuentra un intervalo de confianza al nivel de $90\\%$ para $\\mu$, dado que $\\sigma =2$.\n",
        "2. Encuentra un intervalo de confianza al nivel de $90\\%$ para $\\mu$.\n",
        "3. Encuentra un intervalo de confianza al nivel de $90\\%$ para $\\sigma^2$.\n"
      ],
      "metadata": {
        "id": "OrvFwF6WUVy4"
      }
    },
    {
      "cell_type": "code",
      "source": [
        "D = [1, 2, 3, 4]\n",
        "\n",
        "mu = np.mean(D)\n",
        "\n",
        "# inciso 1.\n",
        "sigma =2 \n",
        "\n",
        "C1 = norm.interval(0.9, loc=mu, scale=2 / np.sqrt(4))\n",
        "print(C1)\n",
        "\n",
        "# inciso 2.\n",
        "C2 = st.t.interval(alpha = 0.90, df=3, loc = mu, scale = st.sem(D))\n",
        "print(C2)\n",
        "\n",
        "# inciso 3\n",
        "alpha = 0.10\n",
        "s2 = np.var(D, ddof=1)\n",
        "B = 3 * s2 / st.chi2.ppf(alpha / 2, 3)\n",
        "A = 3 * s2 / st.chi2.ppf (1 - (alpha / 2), 3)\n",
        "\n",
        "C3=(A,B)\n",
        "\n",
        "print(C3)\n"
      ],
      "metadata": {
        "colab": {
          "base_uri": "https://localhost:8080/"
        },
        "id": "UEjEQ9hQUgmd",
        "outputId": "9b22d51f-073f-4bb0-a764-d17bcfa5e1a3"
      },
      "execution_count": 16,
      "outputs": [
        {
          "output_type": "stream",
          "name": "stdout",
          "text": [
            "(0.8551463730485271, 4.144853626951472)\n",
            "(0.9809104349065063, 4.019089565093493)\n",
            "(0.6398175421974498, 14.210749829597594)\n"
          ]
        }
      ]
    },
    {
      "cell_type": "markdown",
      "source": [
        "La estatura promedio de un hombre adulto en cierto país es $170$ cm. Sospechamos que los hombres de cierta ciudad de ese país pueden tener una estatura promedio diferente debido a algunos factores ambientales. Seleccionamos una muestra aleatoria de tamaño $9$ de los hombres adultos de la ciudad y se obtuvieron los siguientes valores para sus alturas (en cm):\n",
        "\t$$176.2, 157.9, 160.1, 180.9, 165.1, 167.2, 162.9, 155.7, 166.2 $$\n",
        "\t\n",
        "Suponga que la distribución de la altura es normal. Con base en los datos observados, ¿existe evidencia para rechazar $H_0$ a un nivel de significancia $\\alpha=0.05$?"
      ],
      "metadata": {
        "id": "7RHAkG6LUiJX"
      }
    },
    {
      "cell_type": "markdown",
      "source": [
        "**Solución**"
      ],
      "metadata": {
        "id": "GHG-kpCK2IY4"
      }
    },
    {
      "cell_type": "markdown",
      "source": [
        "Prueba de hipótesis:\n",
        "$$H_{0}: \\mu =170, \\ \\ H_{A}:\\mu \\neq 170.$$\n",
        "\n",
        "Seleccionamos al estadístico:\n",
        "$$W(x_{1},\\dots, x_{n})=\\frac{\\bar{X}-\\mu_{0}}{S/\\sqrt{n}}.$$"
      ],
      "metadata": {
        "id": "aEf-C64e2Lwj"
      }
    },
    {
      "cell_type": "code",
      "source": [
        "def W_Normal(L, m_0):\n",
        "  m = np.mean(L)\n",
        "  s2 = np.var(L, ddof=1)\n",
        "  s = np.sqrt(s2)\n",
        "  s_n = s/np.sqrt(len(L))\n",
        "  return (m-m_0)/s_n \n",
        "\n"
      ],
      "metadata": {
        "id": "eeViJZ2C20Ys"
      },
      "execution_count": 18,
      "outputs": []
    },
    {
      "cell_type": "code",
      "source": [
        "L = np.array([176.2, 157.9, 160.1, 180.9, 165.1, 167.2, 162.9, 155.7, 166.2])\n",
        "\n",
        "# Realizamos la prueba de hipótesis:\n",
        "\n",
        "w = W_Normal(L, 170)\n",
        "nivel = 0.025\n",
        "n = len(L)\n",
        "\n",
        "if abs(w)<= st.t.ppf(1-nivel, n-1):\n",
        "     print(\"se acepta la hipótesis nula\")\n",
        "else:\n",
        "     print(\"se rechaza la hipótesis nula\")"
      ],
      "metadata": {
        "colab": {
          "base_uri": "https://localhost:8080/"
        },
        "id": "P8WA5KHeUoWf",
        "outputId": "184ca758-4513-4dbe-b035-e67f177bd03f"
      },
      "execution_count": 38,
      "outputs": [
        {
          "output_type": "stream",
          "name": "stdout",
          "text": [
            "se acepta la hipótesis nula\n"
          ]
        }
      ]
    },
    {
      "cell_type": "markdown",
      "source": [
        "Una declaración estadística apareció en The Guardian el viernes 4 de enero de 2002:\n",
        "\t\n",
        "\"Cuando se realizan 250 volados, salió cara 140 veces y cruz 110. Me parece muy sospechoso, dijo Barry Blight, profesor de estadística en la London School of Economics. \"Si la moneda fuera imparcial, la posibilidad de obtener un resultado tan extremo como ese sería inferior al 7\\%\"\n",
        "\n",
        "* Sea $\\theta$ la probabilidad de que salga cara. Considere la hipótesis nula, $H_0 : \\theta = 0.5$. Explica cuidadosamente porqué surge el $7\\%$. Qué término describe este valor en NHST? \n",
        "* ¿Rechazarías $H_0$ a un nivel de significancia de $\\alpha=0.1$?\n",
        "*¿Cuántas caras necesitas haber observado para rechazar la hipótesis nula a un nivel de significancia de $\\alpha=0.01$?\n"
      ],
      "metadata": {
        "id": "9rFKnv4vUtbA"
      }
    },
    {
      "cell_type": "markdown",
      "source": [
        "**Solución**"
      ],
      "metadata": {
        "id": "ZVWdArrt-AQj"
      }
    },
    {
      "cell_type": "markdown",
      "source": [
        "Se tiene la prueba de hipótesis:\n",
        "$$H_{0}:\\theta= 0.5$$\n",
        "\n",
        "Aquí, pueden ocurrir dos situaciones para la hipótesis alternativa, a saber:\n",
        "$$H_{A}: \\theta>0.5 \\ \\ \\theta\\neq 0.5.$$\n",
        "\n",
        "Lo anterior, permite ver al problema como tipo Binomial en dónde hay 140 éxitos.\n",
        "\n",
        "Calculemos el $p$-valor de un lado:\n",
        "$$p=P(x\\geq 140 \\mid H_0)$$"
      ],
      "metadata": {
        "id": "8aH6ct77-Cw1"
      }
    },
    {
      "cell_type": "code",
      "source": [
        "p_val1 = 1- binom.cdf(139, 250, 0.5)\n",
        "\n",
        "p_val1 "
      ],
      "metadata": {
        "colab": {
          "base_uri": "https://localhost:8080/"
        },
        "id": "W6DOXF68U_Uz",
        "outputId": "6160f339-4f6e-4679-f3c3-210d1b1eca5c"
      },
      "execution_count": 41,
      "outputs": [
        {
          "output_type": "execute_result",
          "data": {
            "text/plain": [
              "0.03321057562002161"
            ]
          },
          "metadata": {},
          "execution_count": 41
        }
      ]
    },
    {
      "cell_type": "markdown",
      "source": [
        "Así, por simetría, la prueba de dos colas sería:\n",
        "$$2\\times 0.03321 = 0.06642.$$"
      ],
      "metadata": {
        "id": "2t-WwoZQ_40u"
      }
    },
    {
      "cell_type": "code",
      "source": [
        "p_val = 2*p_val1\n",
        "\n",
        "# Prueba de hipótesis:\n",
        "\n",
        "if 0.05 < p_val < 0.1: \n",
        "  print(\"se rechaza la hipótesis nula a un nivel de significancia 0.1\")"
      ],
      "metadata": {
        "colab": {
          "base_uri": "https://localhost:8080/"
        },
        "id": "c2Ptiy12_3hO",
        "outputId": "25681107-135a-4361-f440-7bf2a3ca9935"
      },
      "execution_count": 42,
      "outputs": [
        {
          "output_type": "stream",
          "name": "stdout",
          "text": [
            "se rechaza la hipótesis nula a un nivel de significancia 0.1\n"
          ]
        }
      ]
    },
    {
      "cell_type": "markdown",
      "source": [
        "El problema nos pide encontrar la región de rechazo para $\\alpha = 0.01$."
      ],
      "metadata": {
        "id": "9DgwnVh0BAtm"
      }
    },
    {
      "cell_type": "code",
      "source": [
        "A = st.binom.ppf(0.001,250,0.5) -1\n",
        "B = st.binom.ppf(0.999,250,0.5) +1\n",
        "\n",
        "print((A,B))"
      ],
      "metadata": {
        "colab": {
          "base_uri": "https://localhost:8080/"
        },
        "id": "jLke5og3BNcE",
        "outputId": "f7ef4152-dcef-41fb-9b16-06669797a95a"
      },
      "execution_count": 44,
      "outputs": [
        {
          "output_type": "stream",
          "name": "stdout",
          "text": [
            "(100.0, 150.0)\n"
          ]
        }
      ]
    },
    {
      "cell_type": "markdown",
      "source": [
        "Conclusión, rechazamos cuando se tienen más de 150 soles o menos de 100 soles."
      ],
      "metadata": {
        "id": "QSi9gxYMB9rN"
      }
    },
    {
      "cell_type": "markdown",
      "source": [
        "En un experimento sobre la precisión de las pruebas de polígrafo, se instruyó a 140 personas para que dijeran la verdad y a 140 personas para que mintieran. Los evaluadores usan un polígrafo para adivinar si cada persona está mintiendo o no. Por analogía, digamos que $H_0$ corresponde al testeado diciendo la verdad y $H_A$ corresponde al testado mintiendo. \n",
        "\n",
        "* Describa el significado de los errores tipo I y tipo II en este contexto y estime sus probabilidades con base en la tabla.\n",
        "\n",
        "$$\\begin{array}{| r | l | c |}\n",
        "\t\t\t\t\t\\hline\n",
        "\t\t\t\t\t & \\text{testeado confiable} & \\text{testeado miente} \\\\ \\hline\n",
        "\t\t\t\t\t\\text{Test piensa que es testeado es confiable} & 40 & 15 \\\\\n",
        "\t\t\t\t\t\\text{Test piensa que es testeado miente}& 100 & 125 \\\\ \\hline\n",
        "\t\t\t\t\\end{array}$$\n",
        "* En NHST, ¿qué relaciones existen entre los términos nivel de significancia, potencia, error tipo 1 y error tipo 2?\n"
      ],
      "metadata": {
        "id": "wvXJ6XJ0VAje"
      }
    },
    {
      "cell_type": "markdown",
      "source": [
        "**Solución**"
      ],
      "metadata": {
        "id": "ikEhJg2JCzVD"
      }
    },
    {
      "cell_type": "markdown",
      "source": [
        "* El error tipo I es rechazar la hipótesis nula cuando en realidad es verdadero. Esto corresponde a pensar que alguien está mintiendo cuando en realidad está diciendo la verdad. El experimento tuvo 100/140 errores tipo I. Esta es nuestra estimación de la probabilidad de un tipo I \n",
        "error.\n",
        "\n",
        "* El error de tipo II es no rechazar la hipótesis nula cuando en realidad es falsa. Esto corresponde\n",
        "a pensar que alguien está diciendo la verdad cuando en realidad está mintiendo. En base a los datos nuestro\n",
        "estimación de la probabilidad de un error de tipo II es 15/140.\n",
        "\n",
        "* La significancia es:\n",
        "$$P(\\text{error tipo I})=P(\\text{rechazar} \\ H_{0}\\mid H_{0})$$\n",
        "y la potencia es:\n",
        "$$1-P(\\text{error tipo III})=P(\\text{rechazar} \\ H_{0}\\mid H_{A}).$$"
      ],
      "metadata": {
        "id": "NECCF4gjC196"
      }
    },
    {
      "cell_type": "markdown",
      "source": [
        "Realizamos una prueba $t$ para la hipótesis nula $H_0: \\mu = 10$ a un nivel de significación $\\alpha = 0.05$ por medio de un conjunto de datos que consta de $n = 16$ elementos con media muestral $11$ y varianza muestral $4$.\n",
        " \t(a) ¿Deberíamos rechazar la hipótesis nula a favor de $H_A : \\mu \\neq 10$? (b) ¿Qué pasa si probamos contra $H_A: \\mu > 10$?"
      ],
      "metadata": {
        "id": "DHVX8gtKWBU7"
      }
    },
    {
      "cell_type": "markdown",
      "source": [
        "**Solución**\n",
        "\n",
        "Esta es una prueba de dos lados. Con los datos que tenemos, el estadístico $W=2$."
      ],
      "metadata": {
        "id": "GC-nQPwHEQFn"
      }
    },
    {
      "cell_type": "code",
      "source": [
        "\n",
        "\n",
        "W = 2\n",
        "\n",
        "# Calculamos el p-value\n",
        "\n",
        "p_value = 2*(1-t.cdf(W, 15))\n",
        "\n",
        "if p_value > 0.05:\n",
        "  print(\"no rechazamos la hipótesis nula\")\n"
      ],
      "metadata": {
        "colab": {
          "base_uri": "https://localhost:8080/"
        },
        "id": "4xsqKMPQWHaH",
        "outputId": "eb170206-c749-4f69-93c5-40cfabc52c18"
      },
      "execution_count": 53,
      "outputs": [
        {
          "output_type": "stream",
          "name": "stdout",
          "text": [
            "no rechazamos la hipótesis nula\n"
          ]
        }
      ]
    },
    {
      "cell_type": "code",
      "source": [
        "(1-t.cdf(W, 15))"
      ],
      "metadata": {
        "colab": {
          "base_uri": "https://localhost:8080/"
        },
        "id": "TC9T5sryHsVb",
        "outputId": "00c5f00f-eb10-40b1-e989-b8553a7a3c6a"
      },
      "execution_count": 54,
      "outputs": [
        {
          "output_type": "execute_result",
          "data": {
            "text/plain": [
              "0.03197250364236004"
            ]
          },
          "metadata": {},
          "execution_count": 54
        }
      ]
    },
    {
      "cell_type": "markdown",
      "source": [],
      "metadata": {
        "id": "Xd2yjIvAmu8D"
      }
    }
  ]
}